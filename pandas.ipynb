{
 "cells": [
  {
   "cell_type": "code",
   "execution_count": 1,
   "metadata": {},
   "outputs": [],
   "source": [
    "import pandas as pd"
   ]
  },
  {
   "cell_type": "code",
   "execution_count": 16,
   "metadata": {},
   "outputs": [
    {
     "name": "stdout",
     "output_type": "stream",
     "text": [
      "   calories  duration\n",
      "2       420        50\n",
      "3       380        40\n",
      "5       390        45\n"
     ]
    }
   ],
   "source": [
    "\n",
    "data = {\n",
    "  \"calories\": [420, 380, 390],\n",
    "  \"duration\": [50, 40, 45]\n",
    "}\n",
    "\n",
    "#load data into a DataFrame object:\n",
    "df = pd.DataFrame(data,index = [2,3,5])\n",
    "\n",
    "print(df) "
   ]
  },
  {
   "cell_type": "code",
   "execution_count": 18,
   "metadata": {},
   "outputs": [
    {
     "name": "stdout",
     "output_type": "stream",
     "text": [
      "  buying  maint door persons lug_boot safety  class\n",
      "0  vhigh  vhigh    2       2    small    low  unacc\n",
      "1  vhigh  vhigh    2       2    small    med  unacc\n",
      "2  vhigh  vhigh    2       2    small   high  unacc\n",
      "3  vhigh  vhigh    2       2      med    low  unacc\n",
      "4  vhigh  vhigh    2       2      med    med  unacc\n"
     ]
    }
   ],
   "source": [
    "df = pd.read_csv('car.data')\n",
    "print(df.head())"
   ]
  },
  {
   "cell_type": "code",
   "execution_count": 20,
   "metadata": {},
   "outputs": [],
   "source": [
    "#print(df.to_string()) print the entire dataset"
   ]
  },
  {
   "cell_type": "code",
   "execution_count": 21,
   "metadata": {},
   "outputs": [
    {
     "name": "stdout",
     "output_type": "stream",
     "text": [
      "     buying  maint   door persons lug_boot safety  class\n",
      "0     vhigh  vhigh      2       2    small    low  unacc\n",
      "1     vhigh  vhigh      2       2    small    med  unacc\n",
      "2     vhigh  vhigh      2       2    small   high  unacc\n",
      "3     vhigh  vhigh      2       2      med    low  unacc\n",
      "4     vhigh  vhigh      2       2      med    med  unacc\n",
      "...     ...    ...    ...     ...      ...    ...    ...\n",
      "1723    low    low  5more    more      med    med   good\n",
      "1724    low    low  5more    more      med   high  vgood\n",
      "1725    low    low  5more    more      big    low  unacc\n",
      "1726    low    low  5more    more      big    med   good\n",
      "1727    low    low  5more    more      big   high  vgood\n",
      "\n",
      "[1728 rows x 7 columns]\n"
     ]
    }
   ],
   "source": [
    "print(df)"
   ]
  },
  {
   "cell_type": "code",
   "execution_count": 22,
   "metadata": {},
   "outputs": [
    {
     "name": "stdout",
     "output_type": "stream",
     "text": [
      "<class 'pandas.core.frame.DataFrame'>\n",
      "RangeIndex: 1728 entries, 0 to 1727\n",
      "Data columns (total 7 columns):\n",
      " #   Column    Non-Null Count  Dtype \n",
      "---  ------    --------------  ----- \n",
      " 0   buying    1728 non-null   object\n",
      " 1   maint     1728 non-null   object\n",
      " 2   door      1728 non-null   object\n",
      " 3   persons   1728 non-null   object\n",
      " 4   lug_boot  1728 non-null   object\n",
      " 5   safety    1728 non-null   object\n",
      " 6   class     1728 non-null   object\n",
      "dtypes: object(7)\n",
      "memory usage: 94.6+ KB\n",
      "None\n"
     ]
    }
   ],
   "source": [
    "print(df.info()) #print more info abt the data"
   ]
  },
  {
   "cell_type": "code",
   "execution_count": 25,
   "metadata": {},
   "outputs": [
    {
     "name": "stdout",
     "output_type": "stream",
     "text": [
      "None\n"
     ]
    }
   ],
   "source": [
    "#drop empty cells\n",
    "print(df.dropna())# this is a new dataframe\n",
    "print(df.dropna(inplace = True)) #modifies the original dataset"
   ]
  },
  {
   "cell_type": "code",
   "execution_count": 35,
   "metadata": {},
   "outputs": [
    {
     "name": "stdout",
     "output_type": "stream",
     "text": [
      "x1      0.512375\n",
      "y1      0.439875\n",
      "z1     -1.086048\n",
      "v1      0.999802\n",
      "x2      0.538431\n",
      "          ...   \n",
      "v500    0.000000\n",
      "x501    0.578746\n",
      "y501    0.361156\n",
      "z501    0.016201\n",
      "v501    0.000000\n",
      "Length: 2004, dtype: float64\n",
      "x1      0.513688\n",
      "y1      0.460867\n",
      "z1     -1.031596\n",
      "v1      0.999629\n",
      "x2      0.541255\n",
      "          ...   \n",
      "v500    0.000000\n",
      "x501    0.585381\n",
      "y501    0.376804\n",
      "z501    0.005493\n",
      "v501    0.000000\n",
      "Length: 2004, dtype: float64\n",
      "      class        x1        y1        z1        v1        x2        y2  \\\n",
      "0     happy  0.266400  0.311063 -2.178709  0.999875  0.569399  0.266325   \n",
      "1       NaN  0.270591  0.316352 -2.175067       NaN       NaN  0.266932   \n",
      "2       NaN  0.273383  0.316463 -2.146087       NaN       NaN  0.267364   \n",
      "3       NaN  0.274260  0.318699 -2.091522       NaN       NaN  0.267550   \n",
      "4       NaN  0.278308  0.318748 -2.035458       NaN       NaN  0.267657   \n",
      "...     ...       ...       ...       ...       ...       ...       ...   \n",
      "1179    NaN  0.742385  0.674375 -0.487041       NaN       NaN  0.593465   \n",
      "1180    NaN  0.742459  0.674460 -0.483821       NaN       NaN  0.594032   \n",
      "1181    NaN  0.743005  0.675719 -0.478836       NaN       NaN  0.596954   \n",
      "1182    NaN  0.743678  0.676104 -0.478175       NaN       NaN  0.597412   \n",
      "1183    NaN  0.744423  0.677693 -0.474756       NaN       NaN  0.597481   \n",
      "\n",
      "            z2        v2        x3  ...      z499  v499      x500      y500  \\\n",
      "0    -2.120838  0.999892  0.320246  ... -0.055576   0.0  0.347608  0.324786   \n",
      "1    -2.115101       NaN  0.324949  ... -0.054740   NaN  0.347973       NaN   \n",
      "2    -2.032697       NaN  0.328636  ... -0.053298   NaN  0.352372       NaN   \n",
      "3    -1.998024       NaN  0.329483  ... -0.053003   NaN  0.353020       NaN   \n",
      "4    -1.967276       NaN  0.331462  ... -0.052091   NaN  0.356524       NaN   \n",
      "...        ...       ...       ...  ...       ...   ...       ...       ...   \n",
      "1179 -0.416323       NaN  0.791886  ...  0.021263   NaN  0.831891       NaN   \n",
      "1180 -0.414054       NaN  0.792084  ...  0.021644   NaN  0.833485       NaN   \n",
      "1181 -0.412576       NaN  0.792279  ...  0.021718   NaN  0.833692       NaN   \n",
      "1182 -0.411834       NaN  0.792443  ...  0.021915   NaN  0.835099       NaN   \n",
      "1183 -0.399693       NaN  0.792986  ...  0.022514   NaN  0.835448       NaN   \n",
      "\n",
      "          z500  v500      x501      y501      z501  v501  \n",
      "0    -0.055220   0.0  0.353349  0.258055 -0.058381   0.0  \n",
      "1    -0.054751   NaN  0.353715  0.258522 -0.057909   NaN  \n",
      "2    -0.054645   NaN  0.358109  0.258968 -0.057813   NaN  \n",
      "3    -0.054216   NaN  0.358812  0.259488 -0.057368   NaN  \n",
      "4    -0.053908   NaN  0.362197  0.259699 -0.057052   NaN  \n",
      "...        ...   ...       ...       ...       ...   ...  \n",
      "1179  0.078069   NaN  0.839343  0.554056  0.082969   NaN  \n",
      "1180  0.079125   NaN  0.840521  0.557537  0.083980   NaN  \n",
      "1181  0.079209   NaN  0.841953  0.563190  0.084072   NaN  \n",
      "1182  0.079991   NaN  0.842236  0.565619  0.084941   NaN  \n",
      "1183  0.080643   NaN  0.842324  0.570600  0.085585   NaN  \n",
      "\n",
      "[1184 rows x 2005 columns]\n"
     ]
    }
   ],
   "source": [
    "df = pd.read_csv('emotion.csv')\n",
    "print(df.median())\n",
    "print(df.mean())\n",
    "print(df.mode())\n",
    "df['v500'].fillna(11,inplace=True)"
   ]
  },
  {
   "cell_type": "code",
   "execution_count": 39,
   "metadata": {},
   "outputs": [
    {
     "name": "stdout",
     "output_type": "stream",
     "text": [
      "0       0.0\n",
      "1       0.0\n",
      "2       0.0\n",
      "3       0.0\n",
      "4       0.0\n",
      "       ... \n",
      "1179    0.0\n",
      "1180    0.0\n",
      "1181    0.0\n",
      "1182    0.0\n",
      "1183    0.0\n",
      "Name: v500, Length: 1184, dtype: float64\n"
     ]
    }
   ],
   "source": [
    "x = df[\"v500\"].mode()[0]\n",
    "\n",
    "df[\"v500\"].fillna(x, inplace = True)\n",
    "print(df['v500'])"
   ]
  },
  {
   "cell_type": "code",
   "execution_count": null,
   "metadata": {},
   "outputs": [],
   "source": [
    "df['Date'] = pd.to_datetime(df['Date'])# only dataes"
   ]
  },
  {
   "cell_type": "code",
   "execution_count": null,
   "metadata": {},
   "outputs": [],
   "source": [
    "#Remove rows with a NULL value in the \"Date\" column:\n",
    "df.dropna(subset=['Date'], inplace = True)"
   ]
  },
  {
   "cell_type": "code",
   "execution_count": 42,
   "metadata": {},
   "outputs": [
    {
     "name": "stdout",
     "output_type": "stream",
     "text": [
      "0       500.0\n",
      "1       500.0\n",
      "2       500.0\n",
      "3       500.0\n",
      "4       500.0\n",
      "        ...  \n",
      "1179    500.0\n",
      "1180    500.0\n",
      "1181    500.0\n",
      "1182    500.0\n",
      "1183    500.0\n",
      "Name: x1, Length: 1184, dtype: float64\n"
     ]
    }
   ],
   "source": [
    "for i in df.index:\n",
    "    df.loc[i,'x1'] = 500\n",
    "print(df['x1'])"
   ]
  },
  {
   "cell_type": "code",
   "execution_count": 46,
   "metadata": {},
   "outputs": [
    {
     "name": "stdout",
     "output_type": "stream",
     "text": [
      "   class     x1        y1        z1        v1        x2        y2        z2  \\\n",
      "0  happy  500.0  0.417898 -0.875286  0.999865  0.545040  0.356381 -0.811630   \n",
      "1  happy  500.0  0.417111 -0.855975  0.999854  0.552653  0.355820 -0.790669   \n",
      "2  happy  500.0  0.413599 -0.849369  0.999850  0.555097  0.354526 -0.787190   \n",
      "3  happy  500.0  0.410985 -0.830234  0.999843  0.563534  0.352845 -0.765729   \n",
      "4  happy  500.0  0.408928 -0.817909  0.999844  0.572295  0.350749 -0.749590   \n",
      "\n",
      "         v2        x3  ...      z499  v499      x500      y500      z500  \\\n",
      "0  0.999696  0.562587  ... -0.010553   0.0  0.585588  0.354311  0.007193   \n",
      "1  0.999675  0.570437  ... -0.009237   0.0  0.597685  0.355239  0.009936   \n",
      "2  0.999674  0.573078  ... -0.007473   0.0  0.604610  0.354066  0.010993   \n",
      "3  0.999663  0.580298  ... -0.005059   0.0  0.608283  0.348671  0.014238   \n",
      "4  0.999666  0.586789  ... -0.004345   0.0  0.607738  0.348265  0.015344   \n",
      "\n",
      "   v500      x501      y501      z501  v501  \n",
      "0   0.0  0.589863  0.349090  0.007723   0.0  \n",
      "1   0.0  0.601752  0.350972  0.010605   0.0  \n",
      "2   0.0  0.609025  0.349543  0.011696   0.0  \n",
      "3   0.0  0.612891  0.343727  0.015099   0.0  \n",
      "4   0.0  0.612512  0.343107  0.016297   0.0  \n",
      "\n",
      "[5 rows x 2005 columns]\n"
     ]
    }
   ],
   "source": [
    "print(df.head())\n"
   ]
  },
  {
   "cell_type": "code",
   "execution_count": 47,
   "metadata": {},
   "outputs": [
    {
     "name": "stdout",
     "output_type": "stream",
     "text": [
      "0       False\n",
      "1       False\n",
      "2       False\n",
      "3       False\n",
      "4       False\n",
      "        ...  \n",
      "1179    False\n",
      "1180    False\n",
      "1181    False\n",
      "1182    False\n",
      "1183    False\n",
      "Length: 1184, dtype: bool\n"
     ]
    }
   ],
   "source": [
    "#Returns True for every row that is a duplicate, othwerwise False:\n",
    "print(df.duplicated())"
   ]
  },
  {
   "cell_type": "code",
   "execution_count": 48,
   "metadata": {},
   "outputs": [
    {
     "name": "stdout",
     "output_type": "stream",
     "text": [
      "         class     x1        y1        z1        v1        x2        y2  \\\n",
      "0        happy  500.0  0.417898 -0.875286  0.999865  0.545040  0.356381   \n",
      "1        happy  500.0  0.417111 -0.855975  0.999854  0.552653  0.355820   \n",
      "2        happy  500.0  0.413599 -0.849369  0.999850  0.555097  0.354526   \n",
      "3        happy  500.0  0.410985 -0.830234  0.999843  0.563534  0.352845   \n",
      "4        happy  500.0  0.408928 -0.817909  0.999844  0.572295  0.350749   \n",
      "...        ...    ...       ...       ...       ...       ...       ...   \n",
      "1179  surprise  500.0  0.347850 -0.955788  0.999929  0.532151  0.283154   \n",
      "1180  surprise  500.0  0.347924 -0.948508  0.999930  0.532088  0.283126   \n",
      "1181  surprise  500.0  0.347561 -1.019906  0.999932  0.529935  0.282661   \n",
      "1182  surprise  500.0  0.348011 -1.053611  0.999935  0.529491  0.282664   \n",
      "1183  surprise  500.0  0.348021 -1.059250  0.999938  0.526961  0.282389   \n",
      "\n",
      "            z2        v2        x3  ...      z499  v499      x500      y500  \\\n",
      "0    -0.811630  0.999696  0.562587  ... -0.010553   0.0  0.585588  0.354311   \n",
      "1    -0.790669  0.999675  0.570437  ... -0.009237   0.0  0.597685  0.355239   \n",
      "2    -0.787190  0.999674  0.573078  ... -0.007473   0.0  0.604610  0.354066   \n",
      "3    -0.765729  0.999663  0.580298  ... -0.005059   0.0  0.608283  0.348671   \n",
      "4    -0.749590  0.999666  0.586789  ... -0.004345   0.0  0.607738  0.348265   \n",
      "...        ...       ...       ...  ...       ...   ...       ...       ...   \n",
      "1179 -0.852557  0.999891  0.550462  ...  0.001606   0.0  0.563757  0.285003   \n",
      "1180 -0.851067  0.999884  0.549996  ...  0.000628   0.0  0.561587  0.284959   \n",
      "1181 -0.946984  0.999881  0.547213  ...  0.000208   0.0  0.561507  0.283652   \n",
      "1182 -0.987411  0.999880  0.546569  ...  0.000266   0.0  0.560907  0.281841   \n",
      "1183 -0.991567  0.999878  0.544166  ... -0.000554   0.0  0.559436  0.281513   \n",
      "\n",
      "          z500  v500      x501      y501      z501  v501  \n",
      "0     0.007193   0.0  0.589863  0.349090  0.007723   0.0  \n",
      "1     0.009936   0.0  0.601752  0.350972  0.010605   0.0  \n",
      "2     0.010993   0.0  0.609025  0.349543  0.011696   0.0  \n",
      "3     0.014238   0.0  0.612891  0.343727  0.015099   0.0  \n",
      "4     0.015344   0.0  0.612512  0.343107  0.016297   0.0  \n",
      "...        ...   ...       ...       ...       ...   ...  \n",
      "1179  0.024572   0.0  0.570087  0.275306  0.026065   0.0  \n",
      "1180  0.023348   0.0  0.567767  0.275418  0.024800   0.0  \n",
      "1181  0.022198   0.0  0.567945  0.273384  0.023616   0.0  \n",
      "1182  0.021707   0.0  0.567150  0.271990  0.023024   0.0  \n",
      "1183  0.020201   0.0  0.565789  0.270760  0.021515   0.0  \n",
      "\n",
      "[1184 rows x 2005 columns]\n"
     ]
    }
   ],
   "source": [
    "#Remove all duplicates:\n",
    "df.drop_duplicates(inplace = True)\n",
    "print(df)"
   ]
  },
  {
   "cell_type": "code",
   "execution_count": 49,
   "metadata": {},
   "outputs": [
    {
     "name": "stdout",
     "output_type": "stream",
     "text": [
      "      x1        y1        z1        v1        x2        y2        z2  \\\n",
      "x1   NaN       NaN       NaN       NaN       NaN       NaN       NaN   \n",
      "y1   NaN  1.000000 -0.773336 -0.503073 -0.084191  0.994765 -0.790910   \n",
      "z1   NaN -0.773336  1.000000  0.456894  0.113102 -0.728106  0.998455   \n",
      "v1   NaN -0.503073  0.456894  1.000000  0.166293 -0.492572  0.471670   \n",
      "x2   NaN -0.084191  0.113102  0.166293  1.000000 -0.053141  0.143247   \n",
      "...   ..       ...       ...       ...       ...       ...       ...   \n",
      "v500 NaN       NaN       NaN       NaN       NaN       NaN       NaN   \n",
      "x501 NaN -0.077962  0.065519  0.195128  0.984793 -0.055458  0.098481   \n",
      "y501 NaN  0.976817 -0.728162 -0.489677 -0.011778  0.984307 -0.746790   \n",
      "z501 NaN -0.700797  0.591052  0.506038  0.518734 -0.687712  0.627852   \n",
      "v501 NaN       NaN       NaN       NaN       NaN       NaN       NaN   \n",
      "\n",
      "            v2        x3        y3  ...      z499  v499      x500      y500  \\\n",
      "x1         NaN       NaN       NaN  ...       NaN   NaN       NaN       NaN   \n",
      "y1   -0.550191 -0.077473  0.992580  ... -0.890530   NaN -0.072513  0.978941   \n",
      "z1    0.508395  0.090477 -0.724989  ...  0.747515   NaN  0.067577 -0.735911   \n",
      "v1    0.986076  0.163044 -0.479337  ...  0.506706   NaN  0.191099 -0.494809   \n",
      "x2    0.171326  0.998987 -0.026866  ...  0.290748   NaN  0.986665 -0.016503   \n",
      "...        ...       ...       ...  ...       ...   ...       ...       ...   \n",
      "v500       NaN       NaN       NaN  ...       NaN   NaN       NaN       NaN   \n",
      "x501  0.200778  0.988554 -0.028365  ...  0.282180   NaN  0.999816 -0.012490   \n",
      "y501 -0.537273 -0.005766  0.985489  ... -0.848997   NaN -0.003308  0.999740   \n",
      "z501  0.547485  0.508474 -0.672190  ...  0.904172   NaN  0.523147 -0.672236   \n",
      "v501       NaN       NaN       NaN  ...       NaN   NaN       NaN       NaN   \n",
      "\n",
      "          z500  v500      x501      y501      z501  v501  \n",
      "x1         NaN   NaN       NaN       NaN       NaN   NaN  \n",
      "y1   -0.707650   NaN -0.077962  0.976817 -0.700797   NaN  \n",
      "z1    0.596144   NaN  0.065519 -0.728162  0.591052   NaN  \n",
      "v1    0.507909   NaN  0.195128 -0.489677  0.506038   NaN  \n",
      "x2    0.513779   NaN  0.984793 -0.011778  0.518734   NaN  \n",
      "...        ...   ...       ...       ...       ...   ...  \n",
      "v500       NaN   NaN       NaN       NaN       NaN   NaN  \n",
      "x501  0.519650   NaN  1.000000 -0.008799  0.524781   NaN  \n",
      "y501 -0.676436   NaN -0.008799  1.000000 -0.670030   NaN  \n",
      "z501  0.999922   NaN  0.524781 -0.670030  1.000000   NaN  \n",
      "v501       NaN   NaN       NaN       NaN       NaN   NaN  \n",
      "\n",
      "[2004 rows x 2004 columns]\n"
     ]
    }
   ],
   "source": [
    "#correlation among the columns The corr() method ignores \"not numeric\" columns.\n",
    "print(df.corr())"
   ]
  },
  {
   "cell_type": "code",
   "execution_count": null,
   "metadata": {},
   "outputs": [],
   "source": [
    "#corr 1 means perfect correclation\n",
    "#corr 0.9 good\n",
    "#less than 0.5 bad\n"
   ]
  }
 ],
 "metadata": {
  "kernelspec": {
   "display_name": "Python 3",
   "language": "python",
   "name": "python3"
  },
  "language_info": {
   "codemirror_mode": {
    "name": "ipython",
    "version": 3
   },
   "file_extension": ".py",
   "mimetype": "text/x-python",
   "name": "python",
   "nbconvert_exporter": "python",
   "pygments_lexer": "ipython3",
   "version": "3.8.5"
  }
 },
 "nbformat": 4,
 "nbformat_minor": 4
}
